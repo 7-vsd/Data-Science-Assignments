{
 "cells": [
  {
   "cell_type": "markdown",
   "id": "f7f5e4cb",
   "metadata": {},
   "source": [
    "# a. Build 99% Confidence Interval Using Sample Standard Deviation"
   ]
  },
  {
   "cell_type": "code",
   "execution_count": 1,
   "id": "c9b32514",
   "metadata": {},
   "outputs": [],
   "source": [
    "import numpy as np\n",
    "from scipy import stats"
   ]
  },
  {
   "cell_type": "code",
   "execution_count": 2,
   "id": "549c6c69",
   "metadata": {},
   "outputs": [],
   "source": [
    "x = [1.13, 1.55, 1.43, 0.92, 1.25, 1.36, 1.32, 0.85, 1.07, 1.48, 1.20, 1.33, 1.18, 1.22, 1.29]"
   ]
  },
  {
   "cell_type": "code",
   "execution_count": 3,
   "id": "dedfaa30",
   "metadata": {},
   "outputs": [],
   "source": [
    "n = len(x)\n",
    "m = np.mean(x)\n",
    "s = np.std(x, ddof=1)"
   ]
  },
  {
   "cell_type": "code",
   "execution_count": 4,
   "id": "eec6a2e7",
   "metadata": {},
   "outputs": [],
   "source": [
    "t = stats.t.ppf(1 - 0.005, n - 1)"
   ]
  },
  {
   "cell_type": "code",
   "execution_count": 5,
   "id": "07208c0a",
   "metadata": {},
   "outputs": [
    {
     "data": {
      "text/plain": [
       "(1.090197338451367, 1.3871359948819662)"
      ]
     },
     "execution_count": 5,
     "metadata": {},
     "output_type": "execute_result"
    }
   ],
   "source": [
    "moe = t * s / np.sqrt(n)\n",
    "l = m - moe\n",
    "u = m + moe\n",
    "(l, u)"
   ]
  },
  {
   "cell_type": "markdown",
   "id": "c303a415",
   "metadata": {},
   "source": [
    "x - the data list.\n",
    "\n",
    "n - number of samples.\n",
    "\n",
    "m - mean.\n",
    "\n",
    "s - sample standard deviation.\n",
    "\n",
    "t - t-value from the t-distribution, based on 99% confidence and sample size.\n",
    "\n",
    "moe - margin of error.\n",
    "\n",
    "l - lower limit of confidence interval.\n",
    "\n",
    "u - upper limit of confidence interval."
   ]
  },
  {
   "cell_type": "markdown",
   "id": "1ac8865d",
   "metadata": {},
   "source": []
  },
  {
   "cell_type": "markdown",
   "id": "b69f3f72",
   "metadata": {},
   "source": [
    "# b. Build 99% Confidence Interval Using Known Population Standard Deviation"
   ]
  },
  {
   "cell_type": "code",
   "execution_count": 6,
   "id": "170fb8cd",
   "metadata": {},
   "outputs": [],
   "source": [
    "sd = 0.2\n",
    "z = stats.norm.ppf(1 - 0.005)"
   ]
  },
  {
   "cell_type": "code",
   "execution_count": 7,
   "id": "e713927b",
   "metadata": {},
   "outputs": [
    {
     "data": {
      "text/plain": [
       "(1.1056514133957607, 1.3716819199375725)"
      ]
     },
     "execution_count": 7,
     "metadata": {},
     "output_type": "execute_result"
    }
   ],
   "source": [
    "moe2 = z * sd / np.sqrt(n)\n",
    "ll = m - moe2\n",
    "uu = m + moe2\n",
    "(ll, uu)"
   ]
  },
  {
   "cell_type": "markdown",
   "id": "967bd260",
   "metadata": {},
   "source": [
    "sd - known population standard deviation (given as 0.2).\n",
    "\n",
    "z - z-value from the normal distribution for 99% confidence.\n",
    "\n",
    "moe2 - margin of error when population standard deviation is known.\n",
    "\n",
    "ll - lower limit of confidence interval (with known σ).\n",
    "\n",
    "uu - upper limit of confidence interval (with known σ)."
   ]
  }
 ],
 "metadata": {
  "kernelspec": {
   "display_name": "Python 3 (ipykernel)",
   "language": "python",
   "name": "python3"
  },
  "language_info": {
   "codemirror_mode": {
    "name": "ipython",
    "version": 3
   },
   "file_extension": ".py",
   "mimetype": "text/x-python",
   "name": "python",
   "nbconvert_exporter": "python",
   "pygments_lexer": "ipython3",
   "version": "3.9.7"
  }
 },
 "nbformat": 4,
 "nbformat_minor": 5
}
