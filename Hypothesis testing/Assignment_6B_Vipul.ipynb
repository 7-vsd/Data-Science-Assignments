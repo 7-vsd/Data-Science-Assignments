{
 "cells": [
  {
   "cell_type": "markdown",
   "id": "83b04b66",
   "metadata": {},
   "source": [
    "# Hypothesis Testing"
   ]
  },
  {
   "cell_type": "code",
   "execution_count": 1,
   "id": "607d940c",
   "metadata": {},
   "outputs": [],
   "source": [
    "import math\n",
    "from scipy import stats"
   ]
  },
  {
   "cell_type": "code",
   "execution_count": 2,
   "id": "a76cab4b",
   "metadata": {},
   "outputs": [],
   "source": [
    "x_mean = 3050\n",
    "n = 25\n",
    "mu = 1000 + 5*600\n",
    "sigma = 5*25"
   ]
  },
  {
   "cell_type": "code",
   "execution_count": 3,
   "id": "7d7edcab",
   "metadata": {},
   "outputs": [],
   "source": [
    "se = sigma / math.sqrt(n)\n",
    "z_val = (x_mean - mu) / se\n",
    "alpha = 0.05\n",
    "z_crit = stats.norm.ppf(1 - alpha)\n",
    "p_val = 1 - stats.norm.cdf(z_val)"
   ]
  },
  {
   "cell_type": "code",
   "execution_count": 4,
   "id": "e88d5158",
   "metadata": {},
   "outputs": [
    {
     "name": "stdout",
     "output_type": "stream",
     "text": [
      "Sample mean (x̄): 3050\n"
     ]
    }
   ],
   "source": [
    "print(\"Sample mean (x̄):\", x_mean)"
   ]
  },
  {
   "cell_type": "code",
   "execution_count": 5,
   "id": "68e96f1e",
   "metadata": {},
   "outputs": [
    {
     "name": "stdout",
     "output_type": "stream",
     "text": [
      "Theoretical mean (μ): 4000\n"
     ]
    }
   ],
   "source": [
    "print(\"Theoretical mean (μ):\", mu)"
   ]
  },
  {
   "cell_type": "code",
   "execution_count": 6,
   "id": "a989a64a",
   "metadata": {},
   "outputs": [
    {
     "name": "stdout",
     "output_type": "stream",
     "text": [
      "Population SD (σ): 125\n"
     ]
    }
   ],
   "source": [
    "print(\"Population SD (σ):\", sigma)"
   ]
  },
  {
   "cell_type": "code",
   "execution_count": 7,
   "id": "aba9214c",
   "metadata": {},
   "outputs": [
    {
     "name": "stdout",
     "output_type": "stream",
     "text": [
      "Sample size (n): 25\n"
     ]
    }
   ],
   "source": [
    "print(\"Sample size (n):\", n)"
   ]
  },
  {
   "cell_type": "code",
   "execution_count": 8,
   "id": "e23204cf",
   "metadata": {},
   "outputs": [
    {
     "name": "stdout",
     "output_type": "stream",
     "text": [
      "Standard Error (SE): 25.0\n"
     ]
    }
   ],
   "source": [
    "print(\"Standard Error (SE):\", round(se, 3))"
   ]
  },
  {
   "cell_type": "code",
   "execution_count": 9,
   "id": "3619a816",
   "metadata": {},
   "outputs": [
    {
     "name": "stdout",
     "output_type": "stream",
     "text": [
      "Test Statistic (z): -38.0\n"
     ]
    }
   ],
   "source": [
    "print(\"Test Statistic (z):\", round(z_val, 3))"
   ]
  },
  {
   "cell_type": "code",
   "execution_count": 10,
   "id": "13cf64b8",
   "metadata": {},
   "outputs": [
    {
     "name": "stdout",
     "output_type": "stream",
     "text": [
      "Critical z (α=0.05): 1.645\n"
     ]
    }
   ],
   "source": [
    "print(\"Critical z (α=0.05):\" , round(z_crit, 3))"
   ]
  },
  {
   "cell_type": "code",
   "execution_count": 11,
   "id": "d7500fae",
   "metadata": {},
   "outputs": [
    {
     "name": "stdout",
     "output_type": "stream",
     "text": [
      "One-tailed p-value: 1.0\n"
     ]
    }
   ],
   "source": [
    "print(\"One-tailed p-value:\", round(p_val, 4))"
   ]
  },
  {
   "cell_type": "code",
   "execution_count": 12,
   "id": "62b1917f",
   "metadata": {},
   "outputs": [
    {
     "name": "stdout",
     "output_type": "stream",
     "text": [
      "→ Fail to reject H0\n"
     ]
    }
   ],
   "source": [
    "if z_val > z_crit:\n",
    "    print(\"→ Reject H0\")\n",
    "else:\n",
    "    print(\"→ Fail to reject H0\")"
   ]
  },
  {
   "cell_type": "markdown",
   "id": "28996109",
   "metadata": {},
   "source": [
    "Conclusion: No strong evidence that weekly operating costs are higher than the model suggests."
   ]
  }
 ],
 "metadata": {
  "kernelspec": {
   "display_name": "Python 3 (ipykernel)",
   "language": "python",
   "name": "python3"
  },
  "language_info": {
   "codemirror_mode": {
    "name": "ipython",
    "version": 3
   },
   "file_extension": ".py",
   "mimetype": "text/x-python",
   "name": "python",
   "nbconvert_exporter": "python",
   "pygments_lexer": "ipython3",
   "version": "3.9.7"
  }
 },
 "nbformat": 4,
 "nbformat_minor": 5
}
