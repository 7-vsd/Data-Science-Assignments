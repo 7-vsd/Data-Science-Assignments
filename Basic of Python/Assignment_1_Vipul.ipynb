{
 "cells": [
  {
   "cell_type": "markdown",
   "id": "aaf9da04",
   "metadata": {},
   "source": [
    "# ASSIGNMENT 01 : BASIC OF PYTHON"
   ]
  },
  {
   "cell_type": "markdown",
   "id": "5a76301f",
   "metadata": {},
   "source": [
    "# Exercise 1: Prime Numbers"
   ]
  },
  {
   "cell_type": "markdown",
   "id": "64c7ade2",
   "metadata": {},
   "source": [
    "Prime nummber are those which can't be divided by any other number, which can only divided by itself and 1"
   ]
  },
  {
   "cell_type": "code",
   "execution_count": 1,
   "id": "b047d740",
   "metadata": {},
   "outputs": [
    {
     "name": "stdout",
     "output_type": "stream",
     "text": [
      "Enter a number: 69\n"
     ]
    }
   ],
   "source": [
    "n = int(input(\"Enter a number: \"))"
   ]
  },
  {
   "cell_type": "code",
   "execution_count": 2,
   "id": "b0bc407e",
   "metadata": {},
   "outputs": [
    {
     "name": "stdout",
     "output_type": "stream",
     "text": [
      "69 is not a prime number\n"
     ]
    }
   ],
   "source": [
    "if n > 1 and all(n % i != 0 for i in range(2, int(n**0.5)+1)):\n",
    "    print(n, \"is a prime number\")\n",
    "else:\n",
    "    print(n, \"is not a prime number\")"
   ]
  },
  {
   "cell_type": "markdown",
   "id": "e1543ced",
   "metadata": {},
   "source": [
    "# Excercise 2 Product of two random numbers"
   ]
  },
  {
   "cell_type": "markdown",
   "id": "fd9895c9",
   "metadata": {},
   "source": [
    "Develop a Python program that generates two random numbers and asks the user to enter the product of these numbers. The program should then check if the user's answer is correct and display an appropriate message."
   ]
  },
  {
   "cell_type": "code",
   "execution_count": 3,
   "id": "c901372a",
   "metadata": {},
   "outputs": [],
   "source": [
    "import random"
   ]
  },
  {
   "cell_type": "code",
   "execution_count": 4,
   "id": "7ee98ba5",
   "metadata": {},
   "outputs": [
    {
     "name": "stdout",
     "output_type": "stream",
     "text": [
      "What is 5 × 5? 26\n",
      "❌ Wrong, answer is 25\n"
     ]
    }
   ],
   "source": [
    "a, b = random.randint(1,10), random.randint(1,10)\n",
    "ans = int(input(f\"What is {a} × {b}? \"))\n",
    "print(\"✅ Correct!\" if ans == a*b else f\"❌ Wrong, answer is {a*b}\")\n"
   ]
  },
  {
   "cell_type": "markdown",
   "id": "695ebec6",
   "metadata": {},
   "source": [
    "# Exercise 3: Squares of Even/Odd Numbers"
   ]
  },
  {
   "cell_type": "markdown",
   "id": "46e6ab52",
   "metadata": {},
   "source": [
    "Create a Python script that prints the squares of all even or odd numbers within the range of 100 to 200. Choose either even or odd numbers and document your choice in the code."
   ]
  },
  {
   "cell_type": "code",
   "execution_count": 5,
   "id": "15636f33",
   "metadata": {},
   "outputs": [
    {
     "name": "stdout",
     "output_type": "stream",
     "text": [
      "Do you want 'odd' or 'even' squares? even\n"
     ]
    }
   ],
   "source": [
    "choice = input(\"Do you want 'odd' or 'even' squares? \").strip().lower()"
   ]
  },
  {
   "cell_type": "code",
   "execution_count": 6,
   "id": "37389270",
   "metadata": {},
   "outputs": [
    {
     "name": "stdout",
     "output_type": "stream",
     "text": [
      "100² = 10000\n",
      "102² = 10404\n",
      "104² = 10816\n",
      "106² = 11236\n",
      "108² = 11664\n",
      "110² = 12100\n",
      "112² = 12544\n",
      "114² = 12996\n",
      "116² = 13456\n",
      "118² = 13924\n",
      "120² = 14400\n",
      "122² = 14884\n",
      "124² = 15376\n",
      "126² = 15876\n",
      "128² = 16384\n",
      "130² = 16900\n",
      "132² = 17424\n",
      "134² = 17956\n",
      "136² = 18496\n",
      "138² = 19044\n",
      "140² = 19600\n",
      "142² = 20164\n",
      "144² = 20736\n",
      "146² = 21316\n",
      "148² = 21904\n",
      "150² = 22500\n",
      "152² = 23104\n",
      "154² = 23716\n",
      "156² = 24336\n",
      "158² = 24964\n",
      "160² = 25600\n",
      "162² = 26244\n",
      "164² = 26896\n",
      "166² = 27556\n",
      "168² = 28224\n",
      "170² = 28900\n",
      "172² = 29584\n",
      "174² = 30276\n",
      "176² = 30976\n",
      "178² = 31684\n",
      "180² = 32400\n",
      "182² = 33124\n",
      "184² = 33856\n",
      "186² = 34596\n",
      "188² = 35344\n",
      "190² = 36100\n",
      "192² = 36864\n",
      "194² = 37636\n",
      "196² = 38416\n",
      "198² = 39204\n",
      "200² = 40000\n"
     ]
    }
   ],
   "source": [
    "for num in range(100, 201):\n",
    "    if choice == \"even\" and num % 2 == 0:\n",
    "        print(f\"{num}² = {num**2}\")\n",
    "    elif choice == \"odd\" and num % 2 != 0:\n",
    "        print(f\"{num}² = {num**2}\")"
   ]
  },
  {
   "cell_type": "markdown",
   "id": "88973d54",
   "metadata": {},
   "source": [
    "# Exercise 4: Hospital Billing System"
   ]
  },
  {
   "cell_type": "markdown",
   "id": "63c4e994",
   "metadata": {},
   "source": [
    "✅ Problem Statement (Question): Hospital Billing System\n",
    "A hospital charges its patients based on the following:\n",
    "•\tRoom charges per day: ₹2,000\n",
    "•\tDoctor consultation fee (flat): ₹1,500\n",
    "•\tLab test charges: Based on the number of tests taken. Each test costs ₹300\n",
    "•\tMedicine charges: Total cost of medicines provided\n",
    "•\tDiscount: If the total bill (before discount) exceeds ₹10,000, a 10% discount is applied\n",
    "Write a Python program to calculate the final bill for a patient who:\n",
    "•\tStayed for 4 days\n",
    "•\tHad 3 lab tests\n",
    "•\tHad medicine charges of ₹2,400"
   ]
  },
  {
   "cell_type": "code",
   "execution_count": 7,
   "id": "252a66c1",
   "metadata": {},
   "outputs": [],
   "source": [
    "room_charge = 2000\n",
    "consultation = 1500\n",
    "lab_charge = 300  "
   ]
  },
  {
   "cell_type": "code",
   "execution_count": 8,
   "id": "cba70dbf",
   "metadata": {},
   "outputs": [],
   "source": [
    "days = 4\n",
    "tests = 3\n",
    "medicine = 2400"
   ]
  },
  {
   "cell_type": "code",
   "execution_count": 9,
   "id": "a558cc82",
   "metadata": {},
   "outputs": [],
   "source": [
    "room_total = days * room_charge\n",
    "lab_total = tests * lab_charge\n",
    "subtotal = room_total + consultation + lab_total + medicine"
   ]
  },
  {
   "cell_type": "code",
   "execution_count": 10,
   "id": "bc72e24e",
   "metadata": {},
   "outputs": [],
   "source": [
    "if subtotal > 10000:\n",
    "    discount = subtotal * 0.10\n",
    "else:\n",
    "    discount = 0\n",
    "\n",
    "final_bill = subtotal - discount"
   ]
  },
  {
   "cell_type": "code",
   "execution_count": 18,
   "id": "0cfefc15",
   "metadata": {},
   "outputs": [
    {
     "ename": "SyntaxError",
     "evalue": "invalid syntax (Temp/ipykernel_21624/3873063856.py, line 1)",
     "output_type": "error",
     "traceback": [
      "\u001b[1;36m  File \u001b[1;32m\"C:\\Users\\91705\\AppData\\Local\\Temp/ipykernel_21624/3873063856.py\"\u001b[1;36m, line \u001b[1;32m1\u001b[0m\n\u001b[1;33m    \"Room charges:\" room_total\u001b[0m\n\u001b[1;37m                    ^\u001b[0m\n\u001b[1;31mSyntaxError\u001b[0m\u001b[1;31m:\u001b[0m invalid syntax\n"
     ]
    }
   ],
   "source": [
    "\"Room charges:\", room_total"
   ]
  },
  {
   "cell_type": "code",
   "execution_count": 12,
   "id": "abd2fbc0",
   "metadata": {},
   "outputs": [
    {
     "data": {
      "text/plain": [
       "('Consultation fee:', 1500)"
      ]
     },
     "execution_count": 12,
     "metadata": {},
     "output_type": "execute_result"
    }
   ],
   "source": [
    "\"Consultation fee:\", consultation"
   ]
  },
  {
   "cell_type": "code",
   "execution_count": 13,
   "id": "85323f52",
   "metadata": {},
   "outputs": [
    {
     "data": {
      "text/plain": [
       "('Lab charges:', 900)"
      ]
     },
     "execution_count": 13,
     "metadata": {},
     "output_type": "execute_result"
    }
   ],
   "source": [
    "\"Lab charges:\", lab_total"
   ]
  },
  {
   "cell_type": "code",
   "execution_count": 14,
   "id": "eb4085c9",
   "metadata": {},
   "outputs": [
    {
     "data": {
      "text/plain": [
       "('Medicine charges:', 2400)"
      ]
     },
     "execution_count": 14,
     "metadata": {},
     "output_type": "execute_result"
    }
   ],
   "source": [
    "\"Medicine charges:\", medicine"
   ]
  },
  {
   "cell_type": "code",
   "execution_count": 15,
   "id": "670c8a0f",
   "metadata": {},
   "outputs": [
    {
     "data": {
      "text/plain": [
       "('Subtotal:', 12800)"
      ]
     },
     "execution_count": 15,
     "metadata": {},
     "output_type": "execute_result"
    }
   ],
   "source": [
    "\"Subtotal:\", subtotal"
   ]
  },
  {
   "cell_type": "code",
   "execution_count": 16,
   "id": "faa44bfd",
   "metadata": {},
   "outputs": [
    {
     "data": {
      "text/plain": [
       "('Discount:', 1280.0)"
      ]
     },
     "execution_count": 16,
     "metadata": {},
     "output_type": "execute_result"
    }
   ],
   "source": [
    "\"Discount:\", discount"
   ]
  },
  {
   "cell_type": "code",
   "execution_count": 17,
   "id": "64f3246c",
   "metadata": {},
   "outputs": [
    {
     "data": {
      "text/plain": [
       "('Final Bill:', 11520.0)"
      ]
     },
     "execution_count": 17,
     "metadata": {},
     "output_type": "execute_result"
    }
   ],
   "source": [
    "\"Final Bill:\", final_bill"
   ]
  }
 ],
 "metadata": {
  "kernelspec": {
   "display_name": "Python 3 (ipykernel)",
   "language": "python",
   "name": "python3"
  },
  "language_info": {
   "codemirror_mode": {
    "name": "ipython",
    "version": 3
   },
   "file_extension": ".py",
   "mimetype": "text/x-python",
   "name": "python",
   "nbconvert_exporter": "python",
   "pygments_lexer": "ipython3",
   "version": "3.9.7"
  }
 },
 "nbformat": 4,
 "nbformat_minor": 5
}
