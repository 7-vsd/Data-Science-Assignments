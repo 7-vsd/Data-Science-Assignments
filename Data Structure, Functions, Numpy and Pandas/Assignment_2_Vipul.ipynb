{
 "cells": [
  {
   "cell_type": "markdown",
   "id": "cbb69577",
   "metadata": {},
   "source": [
    "# Data Structures, Functions, Numpy & Pandas"
   ]
  },
  {
   "cell_type": "markdown",
   "id": "37da9829",
   "metadata": {},
   "source": [
    "# Section A: Data Structures & Control Structures"
   ]
  },
  {
   "cell_type": "markdown",
   "id": "e7d4b38e",
   "metadata": {},
   "source": [
    "1.\tCreate a list of 5 integers. Perform and print the result of the following operations: append, extend, insert, remove, pop, clear, index, count, sort, and reverse."
   ]
  },
  {
   "cell_type": "code",
   "execution_count": 1,
   "id": "47eadae7",
   "metadata": {},
   "outputs": [],
   "source": [
    "nums = [10, 20, 30, 40, 50]"
   ]
  },
  {
   "cell_type": "code",
   "execution_count": 2,
   "id": "b4a89563",
   "metadata": {},
   "outputs": [],
   "source": [
    "nums"
   ]
  },
  {
   "cell_type": "code",
   "execution_count": 3,
   "id": "94473eda",
   "metadata": {},
   "outputs": [],
   "source": [
    "# Append\n",
    "nums.append(60)"
   ]
  },
  {
   "cell_type": "code",
   "execution_count": 4,
   "id": "1ed0d540",
   "metadata": {},
   "outputs": [],
   "source": [
    "\"After append(60):\", nums"
   ]
  },
  {
   "cell_type": "code",
   "execution_count": 5,
   "id": "87b0d7fd",
   "metadata": {},
   "outputs": [],
   "source": [
    "# extend\n",
    "nums.extend([70, 80])"
   ]
  },
  {
   "cell_type": "code",
   "execution_count": 6,
   "id": "06136501",
   "metadata": {},
   "outputs": [],
   "source": [
    "\"After extend([70, 80]):\", nums"
   ]
  },
  {
   "cell_type": "code",
   "execution_count": 7,
   "id": "b980fcd1",
   "metadata": {},
   "outputs": [],
   "source": [
    "# insert\n",
    "nums.insert(2, 25)"
   ]
  },
  {
   "cell_type": "code",
   "execution_count": 8,
   "id": "31e1d13a",
   "metadata": {},
   "outputs": [],
   "source": [
    "\"After insert(2, 25):\", nums"
   ]
  },
  {
   "cell_type": "code",
   "execution_count": 9,
   "id": "00ad60a1",
   "metadata": {},
   "outputs": [],
   "source": [
    "# remove\n",
    "nums.remove(40)  # removes first occurrence of 40"
   ]
  },
  {
   "cell_type": "code",
   "execution_count": 10,
   "id": "cafe6143",
   "metadata": {},
   "outputs": [],
   "source": [
    "\"After remove(40):\", nums"
   ]
  },
  {
   "cell_type": "code",
   "execution_count": 11,
   "id": "98bd5fd5",
   "metadata": {},
   "outputs": [],
   "source": [
    "# pop\n",
    "popped = nums.pop()  # removes last element"
   ]
  },
  {
   "cell_type": "code",
   "execution_count": 12,
   "id": "3a6f01fd",
   "metadata": {},
   "outputs": [],
   "source": [
    "\"After pop():\", nums, \"| Popped value:\", popped"
   ]
  },
  {
   "cell_type": "code",
   "execution_count": 13,
   "id": "995dbfb5",
   "metadata": {},
   "outputs": [],
   "source": [
    "# index\n",
    "\"Index of 25:\", nums.index(25)"
   ]
  },
  {
   "cell_type": "code",
   "execution_count": 14,
   "id": "e40a88e6",
   "metadata": {},
   "outputs": [],
   "source": [
    "# count\n",
    "\"Count of 20:\", nums.count(20)"
   ]
  },
  {
   "cell_type": "code",
   "execution_count": 15,
   "id": "ea13ed9c",
   "metadata": {},
   "outputs": [],
   "source": [
    "nums.sort()"
   ]
  },
  {
   "cell_type": "code",
   "execution_count": 16,
   "id": "a7b65af1",
   "metadata": {},
   "outputs": [],
   "source": [
    "\"After sort():\", nums"
   ]
  },
  {
   "cell_type": "code",
   "execution_count": 17,
   "id": "e9a8dd38",
   "metadata": {},
   "outputs": [],
   "source": [
    "nums.reverse()"
   ]
  },
  {
   "cell_type": "code",
   "execution_count": 18,
   "id": "50a2c975",
   "metadata": {},
   "outputs": [],
   "source": [
    "\"After reverse():\", nums"
   ]
  },
  {
   "cell_type": "code",
   "execution_count": 19,
   "id": "05d831fd",
   "metadata": {},
   "outputs": [],
   "source": [
    "nums.clear()\n",
    "\"After clear():\", nums"
   ]
  },
  {
   "cell_type": "markdown",
   "id": "6ae5f364",
   "metadata": {},
   "source": [
    "-------------------------------------------------------------------------------------------------------"
   ]
  },
  {
   "cell_type": "markdown",
   "id": "33816fe0",
   "metadata": {},
   "source": [
    "2.\tCreate a tuple that stores 3 student names. Try changing the second name in the tuple. What happens? Explain why."
   ]
  },
  {
   "cell_type": "code",
   "execution_count": 20,
   "id": "f3770901",
   "metadata": {},
   "outputs": [],
   "source": [
    "students = (\"Alice\", \"Bob\", \"Charlie\")"
   ]
  },
  {
   "cell_type": "code",
   "execution_count": 27,
   "id": "a6762ee2",
   "metadata": {},
   "outputs": [
    {
     "data": {
      "text/plain": [
       "('Original tuple:', ('Alice', 'Bob', 'Charlie'))"
      ]
     },
     "execution_count": 27,
     "metadata": {},
     "output_type": "execute_result"
    }
   ],
   "source": [
    "\"Original tuple:\", students"
   ]
  },
  {
   "cell_type": "code",
   "execution_count": 35,
   "id": "b3cbdb82",
   "metadata": {},
   "outputs": [
    {
     "name": "stdout",
     "output_type": "stream",
     "text": [
      "Error: 'tuple' object does not support item assignment\n"
     ]
    }
   ],
   "source": [
    "try:\n",
    "    students[1] = \"David\"\n",
    "except TypeError as e:\n",
    "    print(\"Error:\", e)"
   ]
  },
  {
   "cell_type": "markdown",
   "id": "f7a5dc5d",
   "metadata": {},
   "source": [
    "3.\tCreate a set of integers with some duplicate values. Print the set and explain the output."
   ]
  },
  {
   "cell_type": "code",
   "execution_count": 30,
   "id": "20f7e9e9",
   "metadata": {},
   "outputs": [],
   "source": [
    "my_set = {1, 2, 2, 3, 4, 4, 5}"
   ]
  },
  {
   "cell_type": "code",
   "execution_count": 31,
   "id": "18d8f89b",
   "metadata": {},
   "outputs": [
    {
     "data": {
      "text/plain": [
       "{1, 2, 3, 4, 5}"
      ]
     },
     "execution_count": 31,
     "metadata": {},
     "output_type": "execute_result"
    }
   ],
   "source": [
    "my_set"
   ]
  },
  {
   "cell_type": "markdown",
   "id": "47ca5362",
   "metadata": {},
   "source": [
    "-------------------------------------------------------------------------------------------------------"
   ]
  },
  {
   "cell_type": "markdown",
   "id": "42b9b786",
   "metadata": {},
   "source": [
    "4.\tCreate a dictionary with the keys: 'name', 'age', and 'city'. Update the age and add a new key 'email'. Print the final dictionary."
   ]
  },
  {
   "cell_type": "code",
   "execution_count": 36,
   "id": "8faedbff",
   "metadata": {},
   "outputs": [],
   "source": [
    "person = {\"name\": \"Raj\", \"age\": 25, \"city\": \"Pune\"}"
   ]
  },
  {
   "cell_type": "code",
   "execution_count": 37,
   "id": "118b17a7",
   "metadata": {},
   "outputs": [],
   "source": [
    "person[\"age\"] = 26"
   ]
  },
  {
   "cell_type": "code",
   "execution_count": 38,
   "id": "5336cba1",
   "metadata": {},
   "outputs": [
    {
     "data": {
      "text/plain": [
       "{'name': 'Raj', 'age': 26, 'city': 'Pune'}"
      ]
     },
     "execution_count": 38,
     "metadata": {},
     "output_type": "execute_result"
    }
   ],
   "source": [
    "person"
   ]
  },
  {
   "cell_type": "code",
   "execution_count": 39,
   "id": "42c6ce15",
   "metadata": {},
   "outputs": [],
   "source": [
    "person[\"email\"] = \"raj@example.com\""
   ]
  },
  {
   "cell_type": "code",
   "execution_count": 40,
   "id": "abe32bdc",
   "metadata": {},
   "outputs": [
    {
     "data": {
      "text/plain": [
       "{'name': 'Raj', 'age': 26, 'city': 'Pune', 'email': 'raj@example.com'}"
      ]
     },
     "execution_count": 40,
     "metadata": {},
     "output_type": "execute_result"
    }
   ],
   "source": [
    "person"
   ]
  },
  {
   "cell_type": "markdown",
   "id": "7d19c476",
   "metadata": {},
   "source": [
    "-------------------------------------------------------------------------------------------------------"
   ]
  },
  {
   "cell_type": "markdown",
   "id": "b5f37624",
   "metadata": {},
   "source": [
    "5. Write a script that checks if a person is eligible to vote (age ≥ 18). Take age as a variable and print the appropriate message. "
   ]
  },
  {
   "cell_type": "code",
   "execution_count": 47,
   "id": "de726ce2",
   "metadata": {},
   "outputs": [
    {
     "name": "stdout",
     "output_type": "stream",
     "text": [
      "Age is: 56\n",
      "Eligible to vote\n"
     ]
    }
   ],
   "source": [
    "age = int(input(\"Age is: \"))\n",
    "if age >= 18:\n",
    "    print(\"Eligible to vote\")\n",
    "else:\n",
    "    print(\"Not eligible to vote\")"
   ]
  },
  {
   "cell_type": "markdown",
   "id": "fa1f00d6",
   "metadata": {},
   "source": [
    "-------------------------------------------------------------------------------------------------------"
   ]
  },
  {
   "cell_type": "markdown",
   "id": "5e5b5bb3",
   "metadata": {},
   "source": [
    "6.\tGiven a 'marks' variable, print the grade:\n",
    "- 90 and above: 'A'\n",
    "- 75–89: 'B'\n",
    "- 50–74: 'C'\n",
    "- Below 50: 'Fail'"
   ]
  },
  {
   "cell_type": "code",
   "execution_count": null,
   "id": "03d09e4f",
   "metadata": {},
   "outputs": [],
   "source": [
    "marks = float(input(\"Enter marks: \"))\n",
    "if marks >= 90:\n",
    "    print(\"Grade: A\")\n",
    "elif marks >= 75:\n",
    "    print(\"Grade: B\")\n",
    "elif marks >= 50:\n",
    "    print(\"Grade: C\")\n",
    "else:\n",
    "    print(\"Grade: Fail\")"
   ]
  },
  {
   "cell_type": "markdown",
   "id": "f4a2bb74",
   "metadata": {},
   "source": [
    "-------------------------------------------------------------------------------------------------------"
   ]
  },
  {
   "cell_type": "markdown",
   "id": "9c2f6773",
   "metadata": {},
   "source": [
    "7.\tGiven a number, check if it's positive, and if it is also even. If not positive, print if it's zero or negative."
   ]
  },
  {
   "cell_type": "code",
   "execution_count": null,
   "id": "1b47adaa",
   "metadata": {},
   "outputs": [],
   "source": [
    "num = int(input(\"Enter a number: \"))\n",
    "if num > 0:\n",
    "    if num % 2 == 0:\n",
    "        print(\"Positive Even\")\n",
    "    else:\n",
    "        print(\"Positive Odd\")\n",
    "elif num == 0:\n",
    "    print(\"Zero\")\n",
    "else:\n",
    "    print(\"Negative\")"
   ]
  },
  {
   "cell_type": "markdown",
   "id": "eb138de4",
   "metadata": {},
   "source": [
    "-------------------------------------------------------------------------------------------------------"
   ]
  },
  {
   "cell_type": "markdown",
   "id": "24a9bb88",
   "metadata": {},
   "source": [
    "-------------------------------------------------------------------------------------------------------"
   ]
  },
  {
   "cell_type": "markdown",
   "id": "f9754f09",
   "metadata": {},
   "source": [
    "# Section B: Numpy"
   ]
  },
  {
   "cell_type": "markdown",
   "id": "3510566c",
   "metadata": {},
   "source": [
    "8.\tCreate:\n",
    "- A scalar using np.array(5)\n",
    "- A 1D array with values 1 to 5\n",
    "- A 2D array (2x3) with values from 10 to 60 in steps of 10"
   ]
  },
  {
   "cell_type": "code",
   "execution_count": 55,
   "id": "afa0cb21",
   "metadata": {},
   "outputs": [],
   "source": [
    "import numpy as np"
   ]
  },
  {
   "cell_type": "code",
   "execution_count": 58,
   "id": "02fc0952",
   "metadata": {},
   "outputs": [],
   "source": [
    "scalar = np.array(5)\n",
    "arr1 = np.array([1, 2, 3, 4, 5])\n",
    "arr2 = np.array([[10, 20, 30], [40, 50, 60]])"
   ]
  },
  {
   "cell_type": "code",
   "execution_count": 59,
   "id": "a8047260",
   "metadata": {},
   "outputs": [
    {
     "data": {
      "text/plain": [
       "array(5)"
      ]
     },
     "execution_count": 59,
     "metadata": {},
     "output_type": "execute_result"
    }
   ],
   "source": [
    "scalar"
   ]
  },
  {
   "cell_type": "code",
   "execution_count": 60,
   "id": "66463406",
   "metadata": {},
   "outputs": [
    {
     "data": {
      "text/plain": [
       "array([1, 2, 3, 4, 5])"
      ]
     },
     "execution_count": 60,
     "metadata": {},
     "output_type": "execute_result"
    }
   ],
   "source": [
    "arr1"
   ]
  },
  {
   "cell_type": "code",
   "execution_count": 61,
   "id": "93e96747",
   "metadata": {},
   "outputs": [
    {
     "data": {
      "text/plain": [
       "array([[10, 20, 30],\n",
       "       [40, 50, 60]])"
      ]
     },
     "execution_count": 61,
     "metadata": {},
     "output_type": "execute_result"
    }
   ],
   "source": [
    "arr2"
   ]
  },
  {
   "cell_type": "markdown",
   "id": "5c70dc37",
   "metadata": {},
   "source": [
    "-------------------------------------------------------------------------------------------------------"
   ]
  },
  {
   "cell_type": "markdown",
   "id": "05146005",
   "metadata": {},
   "source": [
    "9.\tGenerate a 4x4 Numpy array of random integers between 0 and 100 using np.random.randint()."
   ]
  },
  {
   "cell_type": "code",
   "execution_count": 62,
   "id": "d4a0973d",
   "metadata": {},
   "outputs": [],
   "source": [
    "import numpy as np"
   ]
  },
  {
   "cell_type": "code",
   "execution_count": 63,
   "id": "dc389231",
   "metadata": {},
   "outputs": [],
   "source": [
    "data = np.random.randint(0, 100, (4, 4))"
   ]
  },
  {
   "cell_type": "code",
   "execution_count": 64,
   "id": "086822ca",
   "metadata": {},
   "outputs": [
    {
     "data": {
      "text/plain": [
       "array([[79, 59,  2, 91],\n",
       "       [58,  6, 76,  8],\n",
       "       [ 3, 84, 36, 93],\n",
       "       [64, 36,  2, 99]])"
      ]
     },
     "execution_count": 64,
     "metadata": {},
     "output_type": "execute_result"
    }
   ],
   "source": [
    "data"
   ]
  },
  {
   "cell_type": "markdown",
   "id": "9b475bc6",
   "metadata": {},
   "source": [
    "-------------------------------------------------------------------------------------------------------"
   ]
  },
  {
   "cell_type": "markdown",
   "id": "3bcd6f23",
   "metadata": {},
   "source": [
    "10.\tCreate a 2D numpy array of shape (3x3). Convert it into a pandas DataFrame and add column names: 'A', 'B', 'C'."
   ]
  },
  {
   "cell_type": "code",
   "execution_count": 70,
   "id": "54a3e99b",
   "metadata": {},
   "outputs": [],
   "source": [
    "import pandas as pd"
   ]
  },
  {
   "cell_type": "code",
   "execution_count": 71,
   "id": "44e4ebed",
   "metadata": {},
   "outputs": [],
   "source": [
    "mat = np.arange(1, 10).reshape(3, 3)"
   ]
  },
  {
   "cell_type": "code",
   "execution_count": 72,
   "id": "ecccf35d",
   "metadata": {},
   "outputs": [],
   "source": [
    "df = pd.DataFrame(mat, columns=['A', 'B', 'C'])"
   ]
  },
  {
   "cell_type": "code",
   "execution_count": 73,
   "id": "96f967e8",
   "metadata": {},
   "outputs": [
    {
     "data": {
      "text/html": [
       "<div>\n",
       "<style scoped>\n",
       "    .dataframe tbody tr th:only-of-type {\n",
       "        vertical-align: middle;\n",
       "    }\n",
       "\n",
       "    .dataframe tbody tr th {\n",
       "        vertical-align: top;\n",
       "    }\n",
       "\n",
       "    .dataframe thead th {\n",
       "        text-align: right;\n",
       "    }\n",
       "</style>\n",
       "<table border=\"1\" class=\"dataframe\">\n",
       "  <thead>\n",
       "    <tr style=\"text-align: right;\">\n",
       "      <th></th>\n",
       "      <th>A</th>\n",
       "      <th>B</th>\n",
       "      <th>C</th>\n",
       "    </tr>\n",
       "  </thead>\n",
       "  <tbody>\n",
       "    <tr>\n",
       "      <th>0</th>\n",
       "      <td>1</td>\n",
       "      <td>2</td>\n",
       "      <td>3</td>\n",
       "    </tr>\n",
       "    <tr>\n",
       "      <th>1</th>\n",
       "      <td>4</td>\n",
       "      <td>5</td>\n",
       "      <td>6</td>\n",
       "    </tr>\n",
       "    <tr>\n",
       "      <th>2</th>\n",
       "      <td>7</td>\n",
       "      <td>8</td>\n",
       "      <td>9</td>\n",
       "    </tr>\n",
       "  </tbody>\n",
       "</table>\n",
       "</div>"
      ],
      "text/plain": [
       "   A  B  C\n",
       "0  1  2  3\n",
       "1  4  5  6\n",
       "2  7  8  9"
      ]
     },
     "execution_count": 73,
     "metadata": {},
     "output_type": "execute_result"
    }
   ],
   "source": [
    "df"
   ]
  },
  {
   "cell_type": "markdown",
   "id": "067104a9",
   "metadata": {},
   "source": [
    "-------------------------------------------------------------------------------------------------------"
   ]
  },
  {
   "cell_type": "markdown",
   "id": "c634dfcc",
   "metadata": {},
   "source": [
    "-------------------------------------------------------------------------------------------------------"
   ]
  },
  {
   "cell_type": "markdown",
   "id": "bbdeeeac",
   "metadata": {},
   "source": [
    "# Section C: Exploring Pandas"
   ]
  },
  {
   "cell_type": "markdown",
   "id": "12de6c28",
   "metadata": {},
   "source": [
    "11.\tCreate a small DataFrame manually with 10 rows and columns: 'Name', 'Age', 'City', and 'Salary'. Then:\n",
    "- Use .info(), .describe()\n",
    "- Select 'Name' and 'City' columns\n",
    "- Drop 'City' column\n",
    "- Fill any missing values in 'Salary' column with the mean\n",
    "- Remove any duplicate rows"
   ]
  },
  {
   "cell_type": "code",
   "execution_count": 74,
   "id": "830b184d",
   "metadata": {},
   "outputs": [],
   "source": [
    "import pandas as pd"
   ]
  },
  {
   "cell_type": "code",
   "execution_count": 75,
   "id": "3f8234cc",
   "metadata": {},
   "outputs": [],
   "source": [
    "data = {\n",
    "    \"Name\": [\"Asha\", \"Ravi\", \"Neha\", \"Asha\", \"Vikram\", \"Rita\", \"Mohan\", \"Amit\", \"Ravi\", \"Sita\"],\n",
    "    \"Age\": [25, 30, 28, 25, 35, 27, 31, 29, 30, 26],\n",
    "    \"City\": [\"Pune\", \"Delhi\", \"Mumbai\", \"Pune\", \"Delhi\", \"Chennai\", \"Kolkata\", \"Pune\", \"Delhi\", \"Mumbai\"],\n",
    "    \"Salary\": [50000, 60000, 58000, 50000, None, 62000, 59000, 61000, 60000, None]\n",
    "}"
   ]
  },
  {
   "cell_type": "code",
   "execution_count": 76,
   "id": "29193966",
   "metadata": {},
   "outputs": [],
   "source": [
    "df = pd.DataFrame(data)"
   ]
  },
  {
   "cell_type": "code",
   "execution_count": 77,
   "id": "a26b36ec",
   "metadata": {},
   "outputs": [
    {
     "name": "stdout",
     "output_type": "stream",
     "text": [
      "<class 'pandas.core.frame.DataFrame'>\n",
      "RangeIndex: 10 entries, 0 to 9\n",
      "Data columns (total 4 columns):\n",
      " #   Column  Non-Null Count  Dtype  \n",
      "---  ------  --------------  -----  \n",
      " 0   Name    10 non-null     object \n",
      " 1   Age     10 non-null     int64  \n",
      " 2   City    10 non-null     object \n",
      " 3   Salary  8 non-null      float64\n",
      "dtypes: float64(1), int64(1), object(2)\n",
      "memory usage: 448.0+ bytes\n"
     ]
    }
   ],
   "source": [
    "df.info()"
   ]
  },
  {
   "cell_type": "code",
   "execution_count": 78,
   "id": "3c9b77ed",
   "metadata": {},
   "outputs": [
    {
     "data": {
      "text/html": [
       "<div>\n",
       "<style scoped>\n",
       "    .dataframe tbody tr th:only-of-type {\n",
       "        vertical-align: middle;\n",
       "    }\n",
       "\n",
       "    .dataframe tbody tr th {\n",
       "        vertical-align: top;\n",
       "    }\n",
       "\n",
       "    .dataframe thead th {\n",
       "        text-align: right;\n",
       "    }\n",
       "</style>\n",
       "<table border=\"1\" class=\"dataframe\">\n",
       "  <thead>\n",
       "    <tr style=\"text-align: right;\">\n",
       "      <th></th>\n",
       "      <th>Age</th>\n",
       "      <th>Salary</th>\n",
       "    </tr>\n",
       "  </thead>\n",
       "  <tbody>\n",
       "    <tr>\n",
       "      <th>count</th>\n",
       "      <td>10.000000</td>\n",
       "      <td>8.000000</td>\n",
       "    </tr>\n",
       "    <tr>\n",
       "      <th>mean</th>\n",
       "      <td>28.600000</td>\n",
       "      <td>57500.000000</td>\n",
       "    </tr>\n",
       "    <tr>\n",
       "      <th>std</th>\n",
       "      <td>3.098387</td>\n",
       "      <td>4780.914437</td>\n",
       "    </tr>\n",
       "    <tr>\n",
       "      <th>min</th>\n",
       "      <td>25.000000</td>\n",
       "      <td>50000.000000</td>\n",
       "    </tr>\n",
       "    <tr>\n",
       "      <th>25%</th>\n",
       "      <td>26.250000</td>\n",
       "      <td>56000.000000</td>\n",
       "    </tr>\n",
       "    <tr>\n",
       "      <th>50%</th>\n",
       "      <td>28.500000</td>\n",
       "      <td>59500.000000</td>\n",
       "    </tr>\n",
       "    <tr>\n",
       "      <th>75%</th>\n",
       "      <td>30.000000</td>\n",
       "      <td>60250.000000</td>\n",
       "    </tr>\n",
       "    <tr>\n",
       "      <th>max</th>\n",
       "      <td>35.000000</td>\n",
       "      <td>62000.000000</td>\n",
       "    </tr>\n",
       "  </tbody>\n",
       "</table>\n",
       "</div>"
      ],
      "text/plain": [
       "             Age        Salary\n",
       "count  10.000000      8.000000\n",
       "mean   28.600000  57500.000000\n",
       "std     3.098387   4780.914437\n",
       "min    25.000000  50000.000000\n",
       "25%    26.250000  56000.000000\n",
       "50%    28.500000  59500.000000\n",
       "75%    30.000000  60250.000000\n",
       "max    35.000000  62000.000000"
      ]
     },
     "execution_count": 78,
     "metadata": {},
     "output_type": "execute_result"
    }
   ],
   "source": [
    "df.describe()"
   ]
  },
  {
   "cell_type": "code",
   "execution_count": 79,
   "id": "c6cdc428",
   "metadata": {},
   "outputs": [
    {
     "data": {
      "text/html": [
       "<div>\n",
       "<style scoped>\n",
       "    .dataframe tbody tr th:only-of-type {\n",
       "        vertical-align: middle;\n",
       "    }\n",
       "\n",
       "    .dataframe tbody tr th {\n",
       "        vertical-align: top;\n",
       "    }\n",
       "\n",
       "    .dataframe thead th {\n",
       "        text-align: right;\n",
       "    }\n",
       "</style>\n",
       "<table border=\"1\" class=\"dataframe\">\n",
       "  <thead>\n",
       "    <tr style=\"text-align: right;\">\n",
       "      <th></th>\n",
       "      <th>Name</th>\n",
       "      <th>City</th>\n",
       "    </tr>\n",
       "  </thead>\n",
       "  <tbody>\n",
       "    <tr>\n",
       "      <th>0</th>\n",
       "      <td>Asha</td>\n",
       "      <td>Pune</td>\n",
       "    </tr>\n",
       "    <tr>\n",
       "      <th>1</th>\n",
       "      <td>Ravi</td>\n",
       "      <td>Delhi</td>\n",
       "    </tr>\n",
       "    <tr>\n",
       "      <th>2</th>\n",
       "      <td>Neha</td>\n",
       "      <td>Mumbai</td>\n",
       "    </tr>\n",
       "    <tr>\n",
       "      <th>3</th>\n",
       "      <td>Asha</td>\n",
       "      <td>Pune</td>\n",
       "    </tr>\n",
       "    <tr>\n",
       "      <th>4</th>\n",
       "      <td>Vikram</td>\n",
       "      <td>Delhi</td>\n",
       "    </tr>\n",
       "    <tr>\n",
       "      <th>5</th>\n",
       "      <td>Rita</td>\n",
       "      <td>Chennai</td>\n",
       "    </tr>\n",
       "    <tr>\n",
       "      <th>6</th>\n",
       "      <td>Mohan</td>\n",
       "      <td>Kolkata</td>\n",
       "    </tr>\n",
       "    <tr>\n",
       "      <th>7</th>\n",
       "      <td>Amit</td>\n",
       "      <td>Pune</td>\n",
       "    </tr>\n",
       "    <tr>\n",
       "      <th>8</th>\n",
       "      <td>Ravi</td>\n",
       "      <td>Delhi</td>\n",
       "    </tr>\n",
       "    <tr>\n",
       "      <th>9</th>\n",
       "      <td>Sita</td>\n",
       "      <td>Mumbai</td>\n",
       "    </tr>\n",
       "  </tbody>\n",
       "</table>\n",
       "</div>"
      ],
      "text/plain": [
       "     Name     City\n",
       "0    Asha     Pune\n",
       "1    Ravi    Delhi\n",
       "2    Neha   Mumbai\n",
       "3    Asha     Pune\n",
       "4  Vikram    Delhi\n",
       "5    Rita  Chennai\n",
       "6   Mohan  Kolkata\n",
       "7    Amit     Pune\n",
       "8    Ravi    Delhi\n",
       "9    Sita   Mumbai"
      ]
     },
     "execution_count": 79,
     "metadata": {},
     "output_type": "execute_result"
    }
   ],
   "source": [
    "df[[\"Name\", \"City\"]]"
   ]
  },
  {
   "cell_type": "code",
   "execution_count": 80,
   "id": "98d9081c",
   "metadata": {},
   "outputs": [],
   "source": [
    "df = df.drop(\"City\", axis=1)"
   ]
  },
  {
   "cell_type": "code",
   "execution_count": 81,
   "id": "a715321a",
   "metadata": {},
   "outputs": [],
   "source": [
    "df[\"Salary\"] = df[\"Salary\"].fillna(df[\"Salary\"].mean())"
   ]
  },
  {
   "cell_type": "code",
   "execution_count": 82,
   "id": "741ba7a2",
   "metadata": {},
   "outputs": [],
   "source": [
    "df = df.drop_duplicates()"
   ]
  },
  {
   "cell_type": "code",
   "execution_count": 83,
   "id": "3e2df33b",
   "metadata": {},
   "outputs": [
    {
     "data": {
      "text/html": [
       "<div>\n",
       "<style scoped>\n",
       "    .dataframe tbody tr th:only-of-type {\n",
       "        vertical-align: middle;\n",
       "    }\n",
       "\n",
       "    .dataframe tbody tr th {\n",
       "        vertical-align: top;\n",
       "    }\n",
       "\n",
       "    .dataframe thead th {\n",
       "        text-align: right;\n",
       "    }\n",
       "</style>\n",
       "<table border=\"1\" class=\"dataframe\">\n",
       "  <thead>\n",
       "    <tr style=\"text-align: right;\">\n",
       "      <th></th>\n",
       "      <th>Name</th>\n",
       "      <th>Age</th>\n",
       "      <th>Salary</th>\n",
       "    </tr>\n",
       "  </thead>\n",
       "  <tbody>\n",
       "    <tr>\n",
       "      <th>0</th>\n",
       "      <td>Asha</td>\n",
       "      <td>25</td>\n",
       "      <td>50000.0</td>\n",
       "    </tr>\n",
       "    <tr>\n",
       "      <th>1</th>\n",
       "      <td>Ravi</td>\n",
       "      <td>30</td>\n",
       "      <td>60000.0</td>\n",
       "    </tr>\n",
       "    <tr>\n",
       "      <th>2</th>\n",
       "      <td>Neha</td>\n",
       "      <td>28</td>\n",
       "      <td>58000.0</td>\n",
       "    </tr>\n",
       "    <tr>\n",
       "      <th>4</th>\n",
       "      <td>Vikram</td>\n",
       "      <td>35</td>\n",
       "      <td>57500.0</td>\n",
       "    </tr>\n",
       "    <tr>\n",
       "      <th>5</th>\n",
       "      <td>Rita</td>\n",
       "      <td>27</td>\n",
       "      <td>62000.0</td>\n",
       "    </tr>\n",
       "    <tr>\n",
       "      <th>6</th>\n",
       "      <td>Mohan</td>\n",
       "      <td>31</td>\n",
       "      <td>59000.0</td>\n",
       "    </tr>\n",
       "    <tr>\n",
       "      <th>7</th>\n",
       "      <td>Amit</td>\n",
       "      <td>29</td>\n",
       "      <td>61000.0</td>\n",
       "    </tr>\n",
       "    <tr>\n",
       "      <th>9</th>\n",
       "      <td>Sita</td>\n",
       "      <td>26</td>\n",
       "      <td>57500.0</td>\n",
       "    </tr>\n",
       "  </tbody>\n",
       "</table>\n",
       "</div>"
      ],
      "text/plain": [
       "     Name  Age   Salary\n",
       "0    Asha   25  50000.0\n",
       "1    Ravi   30  60000.0\n",
       "2    Neha   28  58000.0\n",
       "4  Vikram   35  57500.0\n",
       "5    Rita   27  62000.0\n",
       "6   Mohan   31  59000.0\n",
       "7    Amit   29  61000.0\n",
       "9    Sita   26  57500.0"
      ]
     },
     "execution_count": 83,
     "metadata": {},
     "output_type": "execute_result"
    }
   ],
   "source": [
    "df"
   ]
  }
 ],
 "metadata": {
  "kernelspec": {
   "display_name": "Python 3 (ipykernel)",
   "language": "python",
   "name": "python3"
  },
  "language_info": {
   "codemirror_mode": {
    "name": "ipython",
    "version": 3
   },
   "file_extension": ".py",
   "mimetype": "text/x-python",
   "name": "python",
   "nbconvert_exporter": "python",
   "pygments_lexer": "ipython3",
   "version": "3.9.7"
  }
 },
 "nbformat": 4,
 "nbformat_minor": 5
}
